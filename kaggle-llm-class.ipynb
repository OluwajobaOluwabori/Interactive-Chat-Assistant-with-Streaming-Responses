{
 "cells": [
  {
   "cell_type": "code",
   "execution_count": 2,
   "metadata": {
    "_cell_guid": "b1076dfc-b9ad-4769-8c92-a6c4dae69d19",
    "_uuid": "8f2839f25d086af736a60e9eeb907d3b93b6e0e5",
    "execution": {
     "iopub.execute_input": "2025-10-14T19:20:55.013558Z",
     "iopub.status.busy": "2025-10-14T19:20:55.012954Z",
     "iopub.status.idle": "2025-10-14T19:21:32.323036Z",
     "shell.execute_reply": "2025-10-14T19:21:32.322163Z",
     "shell.execute_reply.started": "2025-10-14T19:20:55.013533Z"
    },
    "trusted": true
   },
   "outputs": [
    {
     "name": "stdout",
     "output_type": "stream",
     "text": [
      "\u001b[2K   \u001b[90m━━━━━━━━━━━━━━━━━━━━━━━━━━━━━━━━━━━━━━━━\u001b[0m \u001b[32m1.8/1.8 MB\u001b[0m \u001b[31m30.3 MB/s\u001b[0m eta \u001b[36m0:00:00\u001b[0ma \u001b[36m0:00:01\u001b[0m\n",
      "\u001b[?25hRequirement already satisfied: transformers in /usr/local/lib/python3.11/dist-packages (4.53.3)\n",
      "Collecting transformers\n",
      "  Downloading transformers-4.57.1-py3-none-any.whl.metadata (43 kB)\n",
      "Requirement already satisfied: filelock in /usr/local/lib/python3.11/dist-packages (from transformers) (3.19.1)\n",
      "Collecting huggingface-hub<1.0,>=0.34.0 (from transformers)\n",
      "  Downloading huggingface_hub-0.35.3-py3-none-any.whl.metadata (14 kB)\n",
      "Requirement already satisfied: numpy>=1.17 in /usr/local/lib/python3.11/dist-packages (from transformers) (1.26.4)\n",
      "Requirement already satisfied: packaging>=20.0 in /usr/local/lib/python3.11/dist-packages (from transformers) (25.0)\n",
      "Requirement already satisfied: pyyaml>=5.1 in /usr/local/lib/python3.11/dist-packages (from transformers) (6.0.3)\n",
      "Requirement already satisfied: regex!=2019.12.17 in /usr/local/lib/python3.11/dist-packages (from transformers) (2025.9.18)\n",
      "Requirement already satisfied: requests in /usr/local/lib/python3.11/dist-packages (from transformers) (2.32.5)\n",
      "Collecting tokenizers<=0.23.0,>=0.22.0 (from transformers)\n",
      "  Downloading tokenizers-0.22.1-cp39-abi3-manylinux_2_17_x86_64.manylinux2014_x86_64.whl.metadata (6.8 kB)\n",
      "Requirement already satisfied: safetensors>=0.4.3 in /usr/local/lib/python3.11/dist-packages (from transformers) (0.5.3)\n",
      "Requirement already satisfied: tqdm>=4.27 in /usr/local/lib/python3.11/dist-packages (from transformers) (4.67.1)\n",
      "Requirement already satisfied: fsspec>=2023.5.0 in /usr/local/lib/python3.11/dist-packages (from huggingface-hub<1.0,>=0.34.0->transformers) (2025.9.0)\n",
      "Requirement already satisfied: typing-extensions>=3.7.4.3 in /usr/local/lib/python3.11/dist-packages (from huggingface-hub<1.0,>=0.34.0->transformers) (4.15.0)\n",
      "Requirement already satisfied: hf-xet<2.0.0,>=1.1.3 in /usr/local/lib/python3.11/dist-packages (from huggingface-hub<1.0,>=0.34.0->transformers) (1.1.10)\n",
      "Requirement already satisfied: mkl_fft in /usr/local/lib/python3.11/dist-packages (from numpy>=1.17->transformers) (1.3.8)\n",
      "Requirement already satisfied: mkl_random in /usr/local/lib/python3.11/dist-packages (from numpy>=1.17->transformers) (1.2.4)\n",
      "Requirement already satisfied: mkl_umath in /usr/local/lib/python3.11/dist-packages (from numpy>=1.17->transformers) (0.1.1)\n",
      "Requirement already satisfied: mkl in /usr/local/lib/python3.11/dist-packages (from numpy>=1.17->transformers) (2025.2.0)\n",
      "Requirement already satisfied: tbb4py in /usr/local/lib/python3.11/dist-packages (from numpy>=1.17->transformers) (2022.2.0)\n",
      "Requirement already satisfied: mkl-service in /usr/local/lib/python3.11/dist-packages (from numpy>=1.17->transformers) (2.4.1)\n",
      "Requirement already satisfied: intel-openmp<2026,>=2024 in /usr/local/lib/python3.11/dist-packages (from mkl->numpy>=1.17->transformers) (2024.2.0)\n",
      "Requirement already satisfied: tbb==2022.* in /usr/local/lib/python3.11/dist-packages (from mkl->numpy>=1.17->transformers) (2022.2.0)\n",
      "Requirement already satisfied: intel-cmplr-lib-ur==2024.2.0 in /usr/local/lib/python3.11/dist-packages (from intel-openmp<2026,>=2024->mkl->numpy>=1.17->transformers) (2024.2.0)\n",
      "Requirement already satisfied: tcmlib==1.* in /usr/local/lib/python3.11/dist-packages (from tbb==2022.*->mkl->numpy>=1.17->transformers) (1.4.0)\n",
      "Requirement already satisfied: intel-cmplr-lib-rt in /usr/local/lib/python3.11/dist-packages (from mkl_umath->numpy>=1.17->transformers) (2024.2.0)\n",
      "Requirement already satisfied: charset_normalizer<4,>=2 in /usr/local/lib/python3.11/dist-packages (from requests->transformers) (3.4.3)\n",
      "Requirement already satisfied: idna<4,>=2.5 in /usr/local/lib/python3.11/dist-packages (from requests->transformers) (3.10)\n",
      "Requirement already satisfied: urllib3<3,>=1.21.1 in /usr/local/lib/python3.11/dist-packages (from requests->transformers) (2.5.0)\n",
      "Requirement already satisfied: certifi>=2017.4.17 in /usr/local/lib/python3.11/dist-packages (from requests->transformers) (2025.8.3)\n",
      "Downloading transformers-4.57.1-py3-none-any.whl (12.0 MB)\n",
      "\u001b[2K   \u001b[90m━━━━━━━━━━━━━━━━━━━━━━━━━━━━━━━━━━━━━━━━\u001b[0m \u001b[32m12.0/12.0 MB\u001b[0m \u001b[31m125.8 MB/s\u001b[0m  \u001b[33m0:00:00\u001b[0m\n",
      "\u001b[?25hDownloading huggingface_hub-0.35.3-py3-none-any.whl (564 kB)\n",
      "\u001b[2K   \u001b[90m━━━━━━━━━━━━━━━━━━━━━━━━━━━━━━━━━━━━━━━━\u001b[0m \u001b[32m564.3/564.3 kB\u001b[0m \u001b[31m18.6 MB/s\u001b[0m  \u001b[33m0:00:00\u001b[0m\n",
      "\u001b[?25hDownloading tokenizers-0.22.1-cp39-abi3-manylinux_2_17_x86_64.manylinux2014_x86_64.whl (3.3 MB)\n",
      "\u001b[2K   \u001b[90m━━━━━━━━━━━━━━━━━━━━━━━━━━━━━━━━━━━━━━━━\u001b[0m \u001b[32m3.3/3.3 MB\u001b[0m \u001b[31m85.5 MB/s\u001b[0m  \u001b[33m0:00:00\u001b[0m\n",
      "\u001b[?25hInstalling collected packages: huggingface-hub, tokenizers, transformers\n",
      "\u001b[2K  Attempting uninstall: huggingface-hub\n",
      "\u001b[2K    Found existing installation: huggingface-hub 1.0.0rc2\n",
      "\u001b[2K    Uninstalling huggingface-hub-1.0.0rc2:\n",
      "\u001b[2K      Successfully uninstalled huggingface-hub-1.0.0rc232m0/3\u001b[0m [huggingface-hub]\n",
      "\u001b[2K  Attempting uninstall: tokenizers━━━━━━━━━━━━━━\u001b[0m \u001b[32m0/3\u001b[0m [huggingface-hub]\n",
      "\u001b[2K    Found existing installation: tokenizers 0.21.2[32m0/3\u001b[0m [huggingface-hub]\n",
      "\u001b[2K    Uninstalling tokenizers-0.21.2:\u001b[90m━━━━━━━━━━━━━━━━━━━━━━━━━━\u001b[0m \u001b[32m1/3\u001b[0m [tokenizers]\n",
      "\u001b[2K      Successfully uninstalled tokenizers-0.21.2━━━━━━━━━━━━━━\u001b[0m \u001b[32m1/3\u001b[0m [tokenizers]\n",
      "\u001b[2K  Attempting uninstall: transformers[90m━━━━━━━━━━━━━━━━━━━━━━━━━━\u001b[0m \u001b[32m1/3\u001b[0m [tokenizers]\n",
      "\u001b[2K    Found existing installation: transformers 4.53.3━━━━━━━━━━\u001b[0m \u001b[32m1/3\u001b[0m [tokenizers]\n",
      "\u001b[2K    Uninstalling transformers-4.53.3:m\u001b[91m╸\u001b[0m\u001b[90m━━━━━━━━━━━━━\u001b[0m \u001b[32m2/3\u001b[0m [transformers]\n",
      "\u001b[2K      Successfully uninstalled transformers-4.53.390m━━━━━━━━━━━━━\u001b[0m \u001b[32m2/3\u001b[0m [transformers]\n",
      "\u001b[2K   \u001b[90m━━━━━━━━━━━━━━━━━━━━━━━━━━━━━━━━━━━━━━━━\u001b[0m \u001b[32m3/3\u001b[0m [transformers][0m [transformers]\n",
      "\u001b[1A\u001b[2K\u001b[31mERROR: pip's dependency resolver does not currently take into account all the packages that are installed. This behaviour is the source of the following dependency conflicts.\n",
      "datasets 4.1.1 requires pyarrow>=21.0.0, but you have pyarrow 19.0.1 which is incompatible.\n",
      "gradio 5.38.1 requires pydantic<2.12,>=2.0, but you have pydantic 2.12.0a1 which is incompatible.\u001b[0m\u001b[31m\n",
      "\u001b[0mSuccessfully installed huggingface-hub-0.35.3 tokenizers-0.22.1 transformers-4.57.1\n",
      "Collecting flask-cors\n",
      "  Downloading flask_cors-6.0.1-py3-none-any.whl.metadata (5.3 kB)\n",
      "Requirement already satisfied: flask>=0.9 in /usr/local/lib/python3.11/dist-packages (from flask-cors) (3.1.1)\n",
      "Requirement already satisfied: Werkzeug>=0.7 in /usr/local/lib/python3.11/dist-packages (from flask-cors) (3.1.3)\n",
      "Requirement already satisfied: blinker>=1.9.0 in /usr/local/lib/python3.11/dist-packages (from flask>=0.9->flask-cors) (1.9.0)\n",
      "Requirement already satisfied: click>=8.1.3 in /usr/local/lib/python3.11/dist-packages (from flask>=0.9->flask-cors) (8.3.0)\n",
      "Requirement already satisfied: itsdangerous>=2.2.0 in /usr/local/lib/python3.11/dist-packages (from flask>=0.9->flask-cors) (2.2.0)\n",
      "Requirement already satisfied: jinja2>=3.1.2 in /usr/local/lib/python3.11/dist-packages (from flask>=0.9->flask-cors) (3.1.6)\n",
      "Requirement already satisfied: markupsafe>=2.1.1 in /usr/local/lib/python3.11/dist-packages (from flask>=0.9->flask-cors) (3.0.2)\n",
      "Downloading flask_cors-6.0.1-py3-none-any.whl (13 kB)\n",
      "Installing collected packages: flask-cors\n",
      "Successfully installed flask-cors-6.0.1\n",
      "Torch: 2.6.0+cu124 | CUDA: 12.4 | cuDNN: 90300\n",
      "TorchVision: 0.21.0+cu124\n",
      "Transformers: 4.57.1\n",
      "Tokenizers: 0.22.1\n",
      "GPUs: 2 ['Tesla T4', 'Tesla T4']\n"
     ]
    }
   ],
   "source": [
    "# =========================================================\n",
    "# ✅ Step 1 — Install dependencies (Stable & Optimized for Kaggle, Oct 2025)\n",
    "# =========================================================\n",
    "\n",
    "# Upgrade pip\n",
    "!pip install --upgrade --quiet pip\n",
    "\n",
    "# --- 🤗 Hugging Face + optimization libraries ---\n",
    "!pip install pyngrok flask --quiet\n",
    "!pip install transformers -U\n",
    "\n",
    "# --- 📦 Extra essentials for modern HF models ---\n",
    "!pip install --quiet einops sentencepiece safetensors\n",
    "!pip install flask-cors\n",
    "\n",
    "import torch, torchvision, transformers, tokenizers\n",
    "\n",
    "print(\"Torch:\", torch.__version__, \"| CUDA:\", torch.version.cuda, \"| cuDNN:\", torch.backends.cudnn.version())\n",
    "print(\"TorchVision:\", torchvision.__version__)\n",
    "print(\"Transformers:\", transformers.__version__)\n",
    "print(\"Tokenizers:\", tokenizers.__version__)\n",
    "print(\"GPUs:\", torch.cuda.device_count(), [torch.cuda.get_device_name(i) for i in range(torch.cuda.device_count())])\n"
   ]
  },
  {
   "cell_type": "code",
   "execution_count": 3,
   "metadata": {
    "execution": {
     "iopub.execute_input": "2025-10-14T19:21:32.324962Z",
     "iopub.status.busy": "2025-10-14T19:21:32.324560Z",
     "iopub.status.idle": "2025-10-14T19:21:52.323701Z",
     "shell.execute_reply": "2025-10-14T19:21:52.323115Z",
     "shell.execute_reply.started": "2025-10-14T19:21:32.324943Z"
    },
    "trusted": true
   },
   "outputs": [
    {
     "name": "stderr",
     "output_type": "stream",
     "text": [
      "2025-10-14 19:21:37.091313: E external/local_xla/xla/stream_executor/cuda/cuda_fft.cc:477] Unable to register cuFFT factory: Attempting to register factory for plugin cuFFT when one has already been registered\n",
      "WARNING: All log messages before absl::InitializeLog() is called are written to STDERR\n",
      "E0000 00:00:1760469697.314344      37 cuda_dnn.cc:8310] Unable to register cuDNN factory: Attempting to register factory for plugin cuDNN when one has already been registered\n",
      "E0000 00:00:1760469697.381273      37 cuda_blas.cc:1418] Unable to register cuBLAS factory: Attempting to register factory for plugin cuBLAS when one has already been registered\n"
     ]
    }
   ],
   "source": [
    "# ======================\n",
    "# Step 2 — Import Libraries\n",
    "# ======================\n",
    "from flask import Flask, request, render_template_string,Response,session,copy_current_request_context\n",
    "from flask_cors import CORS\n",
    "from pyngrok import ngrok\n",
    "from transformers import AutoTokenizer, AutoModelForCausalLM, BitsAndBytesConfig, pipeline,AutoTokenizer,TextIteratorStreamer\n",
    "from huggingface_hub import login\n",
    "import threading\n",
    "import time\n",
    "\n"
   ]
  },
  {
   "cell_type": "code",
   "execution_count": null,
   "metadata": {
    "execution": {
     "iopub.execute_input": "2025-10-14T19:21:52.324960Z",
     "iopub.status.busy": "2025-10-14T19:21:52.324368Z",
     "iopub.status.idle": "2025-10-14T19:21:52.488213Z",
     "shell.execute_reply": "2025-10-14T19:21:52.487587Z",
     "shell.execute_reply.started": "2025-10-14T19:21:52.324935Z"
    },
    "trusted": true
   },
   "outputs": [
    {
     "name": "stdout",
     "output_type": "stream",
     "text": [
      "Logged in to Hugging Face!\n"
     ]
    }
   ],
   "source": [
    "# Replace with your actual Hugging Face API token\n",
    "HUGGINGFACE_API_KEY = \"hf_your_actual_token_here\"\n",
    "\n",
    "# Login to Hugging Face\n",
    "login(HUGGINGFACE_API_KEY)\n",
    "print(\"Logged in to Hugging Face!\")"
   ]
  },
  {
   "cell_type": "code",
   "execution_count": null,
   "metadata": {
    "execution": {
     "iopub.execute_input": "2025-10-14T19:21:52.489131Z",
     "iopub.status.busy": "2025-10-14T19:21:52.488916Z",
     "iopub.status.idle": "2025-10-14T19:21:53.660216Z",
     "shell.execute_reply": "2025-10-14T19:21:53.659364Z",
     "shell.execute_reply.started": "2025-10-14T19:21:52.489113Z"
    },
    "trusted": true
   },
   "outputs": [
    {
     "name": "stdout",
     "output_type": "stream",
     "text": [
      "                                                                                                    \r"
     ]
    }
   ],
   "source": [
    "# 👇 Replace this with your Ngrok auth token\n",
    "NGROK_AUTH_TOKEN = \"your_ngrok_auth_token\"  # ← your token here\n",
    "\n",
    "# Authenticate ngrok\n",
    "ngrok.set_auth_token(NGROK_AUTH_TOKEN)\n"
   ]
  },
  {
   "cell_type": "code",
   "execution_count": 6,
   "metadata": {
    "execution": {
     "iopub.execute_input": "2025-10-14T19:21:53.662512Z",
     "iopub.status.busy": "2025-10-14T19:21:53.662227Z",
     "iopub.status.idle": "2025-10-14T19:22:55.624754Z",
     "shell.execute_reply": "2025-10-14T19:22:55.623802Z",
     "shell.execute_reply.started": "2025-10-14T19:21:53.662492Z"
    },
    "trusted": true
   },
   "outputs": [
    {
     "data": {
      "application/vnd.jupyter.widget-view+json": {
       "model_id": "8578676a18d84cbd94621af4dbe5a39a",
       "version_major": 2,
       "version_minor": 0
      },
      "text/plain": [
       "tokenizer_config.json: 0.00B [00:00, ?B/s]"
      ]
     },
     "metadata": {},
     "output_type": "display_data"
    },
    {
     "data": {
      "application/vnd.jupyter.widget-view+json": {
       "model_id": "207fbe2384b142a796da23db836a7102",
       "version_major": 2,
       "version_minor": 0
      },
      "text/plain": [
       "vocab.json: 0.00B [00:00, ?B/s]"
      ]
     },
     "metadata": {},
     "output_type": "display_data"
    },
    {
     "data": {
      "application/vnd.jupyter.widget-view+json": {
       "model_id": "e57c655dd6934949bcdb6db8b4c50723",
       "version_major": 2,
       "version_minor": 0
      },
      "text/plain": [
       "merges.txt: 0.00B [00:00, ?B/s]"
      ]
     },
     "metadata": {},
     "output_type": "display_data"
    },
    {
     "data": {
      "application/vnd.jupyter.widget-view+json": {
       "model_id": "84f901f7ccde4ae097b8d28901ec58a6",
       "version_major": 2,
       "version_minor": 0
      },
      "text/plain": [
       "tokenizer.json:   0%|          | 0.00/11.4M [00:00<?, ?B/s]"
      ]
     },
     "metadata": {},
     "output_type": "display_data"
    },
    {
     "data": {
      "application/vnd.jupyter.widget-view+json": {
       "model_id": "277d91e1fea84a5685462f4bdfdef835",
       "version_major": 2,
       "version_minor": 0
      },
      "text/plain": [
       "config.json:   0%|          | 0.00/727 [00:00<?, ?B/s]"
      ]
     },
     "metadata": {},
     "output_type": "display_data"
    },
    {
     "name": "stderr",
     "output_type": "stream",
     "text": [
      "`torch_dtype` is deprecated! Use `dtype` instead!\n"
     ]
    },
    {
     "data": {
      "application/vnd.jupyter.widget-view+json": {
       "model_id": "935916cc54f940bab8684b9e5c58920c",
       "version_major": 2,
       "version_minor": 0
      },
      "text/plain": [
       "model.safetensors.index.json: 0.00B [00:00, ?B/s]"
      ]
     },
     "metadata": {},
     "output_type": "display_data"
    },
    {
     "data": {
      "application/vnd.jupyter.widget-view+json": {
       "model_id": "7fab21c20ad14d15bee3252225c7997b",
       "version_major": 2,
       "version_minor": 0
      },
      "text/plain": [
       "Fetching 3 files:   0%|          | 0/3 [00:00<?, ?it/s]"
      ]
     },
     "metadata": {},
     "output_type": "display_data"
    },
    {
     "data": {
      "application/vnd.jupyter.widget-view+json": {
       "model_id": "b6ab218adf6c4a62bd92389405b18e8e",
       "version_major": 2,
       "version_minor": 0
      },
      "text/plain": [
       "model-00002-of-00003.safetensors:   0%|          | 0.00/3.99G [00:00<?, ?B/s]"
      ]
     },
     "metadata": {},
     "output_type": "display_data"
    },
    {
     "data": {
      "application/vnd.jupyter.widget-view+json": {
       "model_id": "64b33d0917c54740ae603dd8a4742b9d",
       "version_major": 2,
       "version_minor": 0
      },
      "text/plain": [
       "model-00003-of-00003.safetensors:   0%|          | 0.00/99.6M [00:00<?, ?B/s]"
      ]
     },
     "metadata": {},
     "output_type": "display_data"
    },
    {
     "data": {
      "application/vnd.jupyter.widget-view+json": {
       "model_id": "d2b5937fc12b48e79ec1b15dab04c353",
       "version_major": 2,
       "version_minor": 0
      },
      "text/plain": [
       "model-00001-of-00003.safetensors:   0%|          | 0.00/3.96G [00:00<?, ?B/s]"
      ]
     },
     "metadata": {},
     "output_type": "display_data"
    },
    {
     "data": {
      "application/vnd.jupyter.widget-view+json": {
       "model_id": "ff3a3b9f42d0415f8e4e326b6645324a",
       "version_major": 2,
       "version_minor": 0
      },
      "text/plain": [
       "Loading checkpoint shards:   0%|          | 0/3 [00:00<?, ?it/s]"
      ]
     },
     "metadata": {},
     "output_type": "display_data"
    },
    {
     "data": {
      "application/vnd.jupyter.widget-view+json": {
       "model_id": "3eb6d74dacf84d83b5b836b21180403a",
       "version_major": 2,
       "version_minor": 0
      },
      "text/plain": [
       "generation_config.json:   0%|          | 0.00/238 [00:00<?, ?B/s]"
      ]
     },
     "metadata": {},
     "output_type": "display_data"
    },
    {
     "name": "stdout",
     "output_type": "stream",
     "text": [
      "✅ Model loaded: Qwen/Qwen3-4B-Instruct-2507\n",
      "🧠 Max context window: 262144 tokens\n"
     ]
    }
   ],
   "source": [
    "# =========================================================\n",
    "# ✅ Load Qwen3-4B-Instruct-2507 model (Oct 2025)\n",
    "#    — Extended context (262K tokens) + smart memory handling\n",
    "# =========================================================\n",
    "from transformers import AutoTokenizer, AutoModelForCausalLM\n",
    "\n",
    "model_name = \"Qwen/Qwen3-4B-Instruct-2507\"\n",
    "\n",
    "# Load tokenizer with full 262K token context\n",
    "tokenizer = AutoTokenizer.from_pretrained(\n",
    "    model_name,\n",
    "    model_max_length=262144,   # match model's full context capacity\n",
    "    use_fast=True,             # ensures the efficient Rust tokenizer backend\n",
    ")\n",
    "\n",
    "# Load model efficiently\n",
    "model = AutoModelForCausalLM.from_pretrained(\n",
    "    model_name,\n",
    "    torch_dtype=\"auto\",         # automatically use bf16/fp16 depending on GPU\n",
    "    device_map=\"auto\",          # spread across multiple GPUs if available\n",
    "    low_cpu_mem_usage=True,     # prevents CPU RAM spikes\n",
    ")\n",
    "\n",
    "# Confirm model context length\n",
    "try:\n",
    "    max_ctx = getattr(model.config, \"max_position_embeddings\", \"unknown\")\n",
    "    print(f\"✅ Model loaded: {model_name}\")\n",
    "    print(f\"🧠 Max context window: {max_ctx} tokens\")\n",
    "except Exception as e:\n",
    "    print(f\"⚠️ Warning: could not read context size — {e}\")\n"
   ]
  },
  {
   "cell_type": "code",
   "execution_count": 7,
   "metadata": {
    "execution": {
     "iopub.execute_input": "2025-10-14T19:22:55.626093Z",
     "iopub.status.busy": "2025-10-14T19:22:55.625820Z",
     "iopub.status.idle": "2025-10-14T19:22:55.631130Z",
     "shell.execute_reply": "2025-10-14T19:22:55.630326Z",
     "shell.execute_reply.started": "2025-10-14T19:22:55.626070Z"
    },
    "trusted": true
   },
   "outputs": [],
   "source": [
    "# top of your Flask file\n",
    "from collections import defaultdict, deque\n",
    "import threading\n",
    "\n",
    "# Keep only the last N messages (user+assistant), not counting the system message\n",
    "MAX_TURNS = 16\n",
    "SESSIONS = defaultdict(lambda: deque(maxlen=MAX_TURNS))\n",
    "SESSIONS_LOCK = threading.Lock()"
   ]
  },
  {
   "cell_type": "code",
   "execution_count": 13,
   "metadata": {
    "execution": {
     "iopub.execute_input": "2025-10-14T20:22:56.840868Z",
     "iopub.status.busy": "2025-10-14T20:22:56.840238Z",
     "iopub.status.idle": "2025-10-14T20:22:56.852495Z",
     "shell.execute_reply": "2025-10-14T20:22:56.851864Z",
     "shell.execute_reply.started": "2025-10-14T20:22:56.840844Z"
    },
    "trusted": true
   },
   "outputs": [],
   "source": [
    "# =========================================================\n",
    "# 🚀 Minimal Flask Streaming API for Qwen-3-4B-Instruct\n",
    "# =========================================================\n",
    "\n",
    "# ---------------------------------------------------------\n",
    "# ✅ Flask setup\n",
    "# ---------------------------------------------------------\n",
    "app = Flask(__name__)\n",
    "CORS(app, resources={r\"/*\": {\"origins\": \"*\"}}, supports_credentials=True) # allow frontend requests\n",
    "\n",
    "\n",
    "# ---------------------------------------------------------\n",
    "# 🌐 /stream endpoint — core streaming generation\n",
    "# ---------------------------------------------------------\n",
    "@app.route(\"/stream\", methods=[\"GET\"])\n",
    "def stream():\n",
    "    # 1️⃣ Get the input text\n",
    "    session_id = request.args.get(\"session_id\", \"\").strip()\n",
    "    user_input = request.args.get(\"prompt\", \"\").strip()\n",
    "\n",
    "    \n",
    "    if not session_id:\n",
    "            return Response(\n",
    "                \"data: Missing ?session_id query parameter.\\n\\ndata: [DONE]\\n\\n\",\n",
    "                mimetype=\"text/event-stream\",\n",
    "                headers={\n",
    "                    \"Access-Control-Allow-Origin\": \"*\",\n",
    "                    \"Cache-Control\": \"no-cache\",\n",
    "                    \"Connection\": \"keep-alive\",\n",
    "                    \"X-Accel-Buffering\": \"no\",\n",
    "                },\n",
    "            )\n",
    "\n",
    "    if not user_input:\n",
    "        return Response(\n",
    "            \"data: Please provide a ?prompt query parameter.\\n\\ndata: [DONE]\\n\\n\",\n",
    "            mimetype=\"text/event-stream\",\n",
    "            headers={\"Access-Control-Allow-Origin\": \"*\"}\n",
    "        )\n",
    "\n",
    "    \n",
    "    # 1) Copy current history for this session (avoid holding the lock during generation)\n",
    "    with SESSIONS_LOCK:\n",
    "        history = list(SESSIONS[session_id])  # each item: {\"role\": \"user\"|\"assistant\", \"content\": str}\n",
    "     # 🔎 Debug: log what the server sees\n",
    "    print(\"SESSION:\", session_id, \"HISTORY LEN:\", len(history))\n",
    "    for i, m in enumerate(history[-4:], 1):\n",
    "        print(f\"  H[-{i}]:\", m[\"role\"], m[\"content\"][:60])\n",
    "    print(\"USER INPUT:\", repr(user_input), flush=True)\n",
    "\n",
    "    # 2️⃣ Create a chat-style prompt\n",
    "    messages = [\n",
    "        {\"role\": \"system\", \"content\": \"You are a helpful AI assistant.\"},\n",
    "        *history,  # ← include prior turns\n",
    "        {\"role\": \"user\", \"content\": user_input},\n",
    "    ]\n",
    "\n",
    "    #  3) Prepare prompt\n",
    "    chat_prompt = tokenizer.apply_chat_template(messages, tokenize=False, add_generation_prompt=True)\n",
    "\n",
    "    # 4️⃣ Create a text streamer\n",
    "    streamer = TextIteratorStreamer(tokenizer, skip_prompt=True, skip_special_tokens=True)\n",
    "\n",
    "    # 5️⃣ Tokenize + move to GPU\n",
    "    inputs = tokenizer(chat_prompt, return_tensors=\"pt\").to(model.device)\n",
    "\n",
    "    # 6️⃣ Generation settings\n",
    "    generation_kwargs = dict(\n",
    "        **inputs,\n",
    "        streamer=streamer,\n",
    "        max_new_tokens=512,\n",
    "        temperature=0.7,\n",
    "        top_p=0.9,\n",
    "        do_sample=True,\n",
    "        repetition_penalty=1.05,\n",
    "        eos_token_id=tokenizer.eos_token_id,\n",
    "        pad_token_id=tokenizer.eos_token_id,\n",
    "    )\n",
    "\n",
    "    # 7️⃣ Start generation thread\n",
    "    thread = threading.Thread(target=model.generate, kwargs=generation_kwargs)\n",
    "    thread.start()\n",
    "\n",
    "    # 8️⃣ Stream the output live\n",
    "    def event_stream():\n",
    "        \n",
    "    # Collect full assistant text while streaming\n",
    "        chunks = []\n",
    "        # Optional: small prelude to defeat proxy buffering\n",
    "        yield \":\" + \" \" * 2048 + \"\\n\\n\"\n",
    "\n",
    "        \n",
    "        try:\n",
    "            for new_text in streamer:\n",
    "                chunks.append(new_text)\n",
    "                yield f\"data: {new_text}\\n\\n\"\n",
    "        finally:\n",
    "            full_assistant = \"\".join(chunks)\n",
    "\n",
    "            # 4) Persist the turn back into the session (user + assistant)\n",
    "            with SESSIONS_LOCK:\n",
    "                SESSIONS[session_id].append({\"role\": \"user\", \"content\": user_input})\n",
    "                SESSIONS[session_id].append({\"role\": \"assistant\", \"content\": full_assistant})\n",
    "\n",
    "            yield \"data: [DONE]\\n\\n\"\n",
    "\n",
    "\n",
    "    return Response(event_stream(), mimetype=\"text/event-stream\", \n",
    "                    headers={\"Access-Control-Allow-Origin\": \"*\",\n",
    "                            \"Cache-Control\": \"no-cache\",\n",
    "                            \"Connection\": \"keep-alive\",\n",
    "                            \"X-Accel-Buffering\": \"no\"\n",
    "})\n"
   ]
  },
  {
   "cell_type": "code",
   "execution_count": 9,
   "metadata": {
    "execution": {
     "iopub.execute_input": "2025-10-14T19:23:06.377688Z",
     "iopub.status.busy": "2025-10-14T19:23:06.377385Z",
     "iopub.status.idle": "2025-10-14T19:23:07.553196Z",
     "shell.execute_reply": "2025-10-14T19:23:07.552286Z",
     "shell.execute_reply.started": "2025-10-14T19:23:06.377663Z"
    },
    "trusted": true
   },
   "outputs": [],
   "source": [
    "# @app.route(\"/clear\", methods=[\"POST\"])\n",
    "# def clear():\n",
    "#     return \"Chat cleared\"\n",
    "\n",
    "\n",
    "@app.route(\"/clear\", methods=[\"POST\"])\n",
    "def clear():\n",
    "    session_id = request.args.get(\"session_id\", \"\").strip()\n",
    "    with SESSIONS_LOCK:\n",
    "        if session_id:\n",
    "            SESSIONS.pop(session_id, None)\n",
    "        else:\n",
    "            # optional: clear every session (dev convenience)\n",
    "            SESSIONS.clear()\n",
    "    return \"Chat cleared\""
   ]
  },
  {
   "cell_type": "code",
   "execution_count": 14,
   "metadata": {
    "execution": {
     "iopub.execute_input": "2025-10-14T20:23:06.606505Z",
     "iopub.status.busy": "2025-10-14T20:23:06.606004Z",
     "iopub.status.idle": "2025-10-14T20:27:04.112257Z",
     "shell.execute_reply": "2025-10-14T20:27:04.111509Z",
     "shell.execute_reply.started": "2025-10-14T20:23:06.606469Z"
    },
    "trusted": true
   },
   "outputs": [
    {
     "name": "stdout",
     "output_type": "stream",
     "text": [
      "🌐 Public URL: https://227298091052.ngrok-free.app\n",
      " * Serving Flask app '__main__'\n",
      " * Debug mode: off\n",
      "SESSION: test123 HISTORY LEN: 4\n",
      "  H[-1]: user hello\n",
      "  H[-2]: assistant Hello! How can I assist you today? 😊\n",
      "  H[-3]: user hello\n",
      "  H[-4]: assistant Hi again! 👋 How's it going? I'm here and ready to help—what'\n",
      "USER INPUT: 'hello'\n",
      "SESSION: test123 HISTORY LEN: 6\n",
      "  H[-1]: user hello\n",
      "  H[-2]: assistant Hi again! 👋 How's it going? I'm here and ready to help—what'\n",
      "  H[-3]: user hello\n",
      "  H[-4]: assistant Hey there! 🌟 Just wanted to say I'm happy to keep chatting w\n",
      "USER INPUT: 'my name is joba'\n",
      "SESSION: test123 HISTORY LEN: 8\n",
      "  H[-1]: user hello\n",
      "  H[-2]: assistant Hey there! 🌟 Just wanted to say I'm happy to keep chatting w\n",
      "  H[-3]: user my name is joba\n",
      "  H[-4]: assistant Hello Joba! 🌟 It's great to meet you! How can I assist you t\n",
      "USER INPUT: 'what is my name'\n",
      "SESSION: test123 HISTORY LEN: 10\n",
      "  H[-1]: user my name is joba\n",
      "  H[-2]: assistant Hello Joba! 🌟 It's great to meet you! How can I assist you t\n",
      "  H[-3]: user what is my name\n",
      "  H[-4]: assistant Your name is **Joba**! 😊 That's a great name — unique and fr\n",
      "USER INPUT: 'what is my name'\n"
     ]
    }
   ],
   "source": [
    "if __name__ == \"__main__\":\n",
    "    ngrok.kill()\n",
    "    public_url = ngrok.connect(5000)\n",
    "    print(f\"🌐 Public URL: {public_url.public_url}\")\n",
    "    app.run(host=\"0.0.0.0\", port=5000, debug=False, use_reloader=False)\n"
   ]
  },
  {
   "cell_type": "code",
   "execution_count": null,
   "metadata": {
    "trusted": true
   },
   "outputs": [],
   "source": []
  }
 ],
 "metadata": {
  "kaggle": {
   "accelerator": "nvidiaTeslaT4",
   "dataSources": [],
   "dockerImageVersionId": 31154,
   "isGpuEnabled": true,
   "isInternetEnabled": true,
   "language": "python",
   "sourceType": "notebook"
  },
  "kernelspec": {
   "display_name": "Python 3",
   "language": "python",
   "name": "python3"
  },
  "language_info": {
   "codemirror_mode": {
    "name": "ipython",
    "version": 3
   },
   "file_extension": ".py",
   "mimetype": "text/x-python",
   "name": "python",
   "nbconvert_exporter": "python",
   "pygments_lexer": "ipython3",
   "version": "3.11.13"
  }
 },
 "nbformat": 4,
 "nbformat_minor": 4
}
